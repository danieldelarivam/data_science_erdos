{
 "cells": [
  {
   "cell_type": "markdown",
   "id": "d137bbe2",
   "metadata": {},
   "source": [
    "# Prep Notebook 1\n",
    "\n",
    "This optional notebook has a few exercises that can serve as a primer for what to expect in the `Problem Session 1` notebook."
   ]
  },
  {
   "cell_type": "markdown",
   "id": "a1dca509",
   "metadata": {},
   "source": [
    "##### 1.\n",
    "\n",
    "Import `numpy`, `pandas`, `matplotlib`, and `seaborn`."
   ]
  },
  {
   "cell_type": "code",
   "execution_count": 1,
   "id": "5580693b",
   "metadata": {},
   "outputs": [],
   "source": [
    "import numpy as np\n",
    "import pandas as pd\n",
    "import matplotlib\n",
    "import seaborn as sns"
   ]
  },
  {
   "cell_type": "markdown",
   "id": "b674c745",
   "metadata": {},
   "source": [
    "##### 2.\n",
    "\n",
    "Write a list comprehension containing the first 5 multiples of 11."
   ]
  },
  {
   "cell_type": "code",
   "execution_count": 2,
   "id": "38f4c972",
   "metadata": {},
   "outputs": [
    {
     "data": {
      "text/plain": [
       "[11, 22, 33, 44, 55]"
      ]
     },
     "execution_count": 2,
     "metadata": {},
     "output_type": "execute_result"
    }
   ],
   "source": [
    "[11*i for i in range(1,6)]"
   ]
  },
  {
   "cell_type": "markdown",
   "id": "0cdfbd83",
   "metadata": {},
   "source": [
    "##### 3.\n",
    "\n",
    "Write a while loop that prints each number from 1 to 7."
   ]
  },
  {
   "cell_type": "code",
   "execution_count": 3,
   "id": "fc1ea147",
   "metadata": {},
   "outputs": [
    {
     "name": "stdout",
     "output_type": "stream",
     "text": [
      "1\n",
      "2\n",
      "3\n",
      "4\n",
      "5\n",
      "6\n",
      "7\n"
     ]
    }
   ],
   "source": [
    "i = 1\n",
    "\n",
    "while i < 8:\n",
    "    print(i)\n",
    "    i = i + 1"
   ]
  },
  {
   "cell_type": "markdown",
   "id": "b148d3e5",
   "metadata": {},
   "source": [
    "##### 4.\n",
    "\n",
    "Use the `type` function to check the types of `a`, `b`, and `c` below."
   ]
  },
  {
   "cell_type": "code",
   "execution_count": 4,
   "id": "5adb0522",
   "metadata": {},
   "outputs": [],
   "source": [
    "a = 1\n",
    "b = [1,2,3,4]\n",
    "c = \"hello\""
   ]
  },
  {
   "cell_type": "code",
   "execution_count": 5,
   "id": "182e0977",
   "metadata": {},
   "outputs": [
    {
     "data": {
      "text/plain": [
       "int"
      ]
     },
     "execution_count": 5,
     "metadata": {},
     "output_type": "execute_result"
    }
   ],
   "source": [
    "type(a)"
   ]
  },
  {
   "cell_type": "code",
   "execution_count": 6,
   "id": "7251fe06",
   "metadata": {},
   "outputs": [
    {
     "data": {
      "text/plain": [
       "list"
      ]
     },
     "execution_count": 6,
     "metadata": {},
     "output_type": "execute_result"
    }
   ],
   "source": [
    "type(b)"
   ]
  },
  {
   "cell_type": "code",
   "execution_count": 7,
   "id": "ea689893",
   "metadata": {},
   "outputs": [
    {
     "data": {
      "text/plain": [
       "str"
      ]
     },
     "execution_count": 7,
     "metadata": {},
     "output_type": "execute_result"
    }
   ],
   "source": [
    "type(c)"
   ]
  },
  {
   "cell_type": "markdown",
   "id": "e3739a3a",
   "metadata": {},
   "source": [
    "##### 5.\n",
    "\n",
    "Write a function that takes in a number and prints it."
   ]
  },
  {
   "cell_type": "code",
   "execution_count": 8,
   "id": "b4c8e966",
   "metadata": {},
   "outputs": [],
   "source": [
    "def print_number(a):\n",
    "    print(a)"
   ]
  },
  {
   "cell_type": "code",
   "execution_count": 9,
   "id": "f3ef7732",
   "metadata": {},
   "outputs": [
    {
     "name": "stdout",
     "output_type": "stream",
     "text": [
      "88888\n"
     ]
    }
   ],
   "source": [
    "print_number(88888)"
   ]
  },
  {
   "cell_type": "markdown",
   "id": "069844d6",
   "metadata": {},
   "source": [
    "--------------------------\n",
    "\n",
    "This notebook was written for the Erd&#337;s Institute C&#337;de Data Science Boot Camp by Matthew Osborne, Ph. D., 2023.\n",
    "\n",
    "Any potential redistributors must seek and receive permission from Matthew Tyler Osborne, Ph.D. prior to redistribution. Redistribution of the material contained in this repository is conditional on acknowledgement of Matthew Tyler Osborne, Ph.D.'s original authorship and sponsorship of the Erdős Institute as subject to the license (see License.md)"
   ]
  }
 ],
 "metadata": {
  "kernelspec": {
   "display_name": "Python 3 (ipykernel)",
   "language": "python",
   "name": "python3"
  },
  "language_info": {
   "codemirror_mode": {
    "name": "ipython",
    "version": 3
   },
   "file_extension": ".py",
   "mimetype": "text/x-python",
   "name": "python",
   "nbconvert_exporter": "python",
   "pygments_lexer": "ipython3",
   "version": "3.10.9"
  }
 },
 "nbformat": 4,
 "nbformat_minor": 5
}
